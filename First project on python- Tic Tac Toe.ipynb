{
 "cells": [
  {
   "cell_type": "markdown",
   "metadata": {},
   "source": [
    "## TIC-TAC-TOE game in python- My first project in python-16-10-2021"
   ]
  },
  {
   "cell_type": "markdown",
   "metadata": {},
   "source": [
    "# Objective\n",
    "Here are the requirements:\n",
    "\n",
    "2 players should be able to play the game (both sitting at the same computer)\n",
    "\n",
    "The board should be printed out every time a player makes a move.\n",
    "\n",
    "You should be able to accept input of the player position and then place a symbol on the board"
   ]
  },
  {
   "cell_type": "markdown",
   "metadata": {},
   "source": [
    "## Begin"
   ]
  },
  {
   "cell_type": "code",
   "execution_count": 14,
   "metadata": {},
   "outputs": [],
   "source": [
    "#Libraries\n",
    "from itertools import permutations\n",
    "from IPython.display import clear_output"
   ]
  },
  {
   "cell_type": "code",
   "execution_count": 15,
   "metadata": {},
   "outputs": [],
   "source": [
    "#varaibles\n",
    "taken_places =[]\n",
    "player1_list=[]\n",
    "player2_list=[]\n",
    "board_values = [\"null\",\"_\",\"_\",\"_\",\"_\",\"_\",\"_\",\"_\",\"_\",\"_\"]\n",
    "end_game = 1"
   ]
  },
  {
   "cell_type": "code",
   "execution_count": 16,
   "metadata": {},
   "outputs": [],
   "source": [
    "gameover_condition = [(1,2,3),(4,5,6),(7,8,9),(1,4,7),(2,5,8),(3,6,9),(1,5,9),(7,5,3)]\n",
    "#Verify if w need set of all of these values"
   ]
  },
  {
   "cell_type": "markdown",
   "metadata": {},
   "source": [
    "## Now defining some functions\n"
   ]
  },
  {
   "cell_type": "code",
   "execution_count": 17,
   "metadata": {},
   "outputs": [],
   "source": [
    "\n",
    "\n",
    "#Display screen\n",
    "def display_screen(board_value):\n",
    "    clear_output()\n",
    "    print(board_value[7]+\"|\"+board_value[8]+'|'+board_value[9])\n",
    "    print(board_value[4]+\"|\"+board_value[5]+'|'+board_value[6])\n",
    "    print(board_value[1]+\"|\"+board_value[2]+'|'+board_value[3])\n",
    "\n",
    "#Defining function for comparision set.\n",
    "def comp_set(player1_list, player2_list):\n",
    "    player1_list = permutations(player1_list,3)\n",
    "    player2_list = permutations(player2_list, 3)\n",
    "    return (list(player1_list),list(player2_list))  #It will return combination of all tuples.\n",
    "\n",
    "#Define a function to find intersection of two lists.\n",
    "def intersection(lst1, lst2):\n",
    "    lst3 = [value for value in lst1 if value in lst2]\n",
    "    return lst3\n",
    "\n",
    "#Function for GAMEOVER condition\n",
    "def GAMEOVER(player1_list, player2_list,gameover_condition):\n",
    "    a=comp_set(player1_list, player2_list)[0]\n",
    "    b=comp_set(player1_list, player2_list)[1]\n",
    "    \n",
    "    if bool(intersection(a,gameover_condition)) or bool(intersection(b,gameover_condition)):\n",
    "        \n",
    "        if intersection(a,gameover_condition):\n",
    "            end_game=0\n",
    "            return print(\"GAME OVER - Player1 wins\")\n",
    "        elif intersection(b,gameover_condition):\n",
    "            end_game=0\n",
    "            return print(\"GAME OVER - Player2 wins\")\n",
    "        else:\n",
    "            end_game=0\n",
    "            return print(\"Its a draw, Try rematch!!!\")\n",
    "    else:\n",
    "        end_game=1\n",
    "        return end_game\n",
    "    "
   ]
  },
  {
   "cell_type": "markdown",
   "metadata": {},
   "source": [
    "# Main function  "
   ]
  },
  {
   "cell_type": "code",
   "execution_count": 18,
   "metadata": {},
   "outputs": [
    {
     "name": "stdout",
     "output_type": "stream",
     "text": [
      "_|O|X\n",
      "_|O|X\n",
      "X|O|_\n",
      "GAME OVER - Player2 wins\n"
     ]
    }
   ],
   "source": [
    "#Initialisation\n",
    "taken_places =[]\n",
    "player1_list=[]\n",
    "player2_list=[]\n",
    "board_values = [\"null\",\"_\",\"_\",\"_\",\"_\",\"_\",\"_\",\"_\",\"_\",\"_\"]\n",
    "allowed_numpad=[1,2,3,4,5,6,7,8,9]\n",
    "end_game = 1\n",
    "\n",
    "#First move for player 1\n",
    "clear_output()\n",
    "board_values = [\"null\",\"_\",\"_\",\"_\",\"_\",\"_\",\"_\",\"_\",\"_\",\"_\"]\n",
    "P1=int(input(\"Player 1-Choose your position:\"))\n",
    "\n",
    "player1_list.append(P1)\n",
    "taken_places.append(P1)\n",
    "board_values[P1]= 'X'\n",
    "display_screen(board_values)\n",
    "\n",
    "while GAMEOVER(player1_list, player2_list,gameover_condition) and end_game==1:\n",
    "    \n",
    "    if len(taken_places)%2==False and end_game:\n",
    "        P1=int(input(\"Player 1-Choose your position:\"))\n",
    "        \n",
    "        while P1 in taken_places and len(taken_places)%2==False and P1 in allowed_numpad:\n",
    "            P1=int(input(\"Position already taken,choose another value P1:  \"))\n",
    "     \n",
    "            if P1 not in taken_places:\n",
    "                player1_list.append(P1)\n",
    "                taken_places.append(P1)\n",
    "                board_values[P1]= 'X'\n",
    "                display_screen(board_values)\n",
    "            continue\n",
    "            \n",
    "        if P1 not in taken_places:\n",
    "                player1_list.append(P1)\n",
    "                taken_places.append(P1)\n",
    "                board_values[P1]= 'X'\n",
    "                display_screen(board_values)\n",
    "                \n",
    "    #GAME over update if player 1 wins\n",
    "    a=comp_set(player1_list, player2_list)[0]\n",
    "    if intersection(a,gameover_condition):\n",
    "        end_game=0\n",
    "    \n",
    "    if len(taken_places)%2==True and end_game:\n",
    "        P2=int(input(\"Player 2-Choose your position:\"))\n",
    "       \n",
    "        \n",
    "        while P2 in taken_places and len(taken_places)%2==True:\n",
    "            P2=input(\"Position already taken,choose another value P2:  \")\n",
    "            \n",
    "            if P2 not in taken_places:\n",
    "                player2_list.append(P2)\n",
    "                taken_places.append(P2)\n",
    "                board_values[P2]= 'O'\n",
    "                display_screen(board_values)\n",
    "            continue\n",
    "            \n",
    "        if P2 not in taken_places:\n",
    "                player2_list.append(P2)\n",
    "                taken_places.append(P2)\n",
    "                board_values[P2]= 'O'\n",
    "                display_screen(board_values)\n",
    "   "
   ]
  },
  {
   "cell_type": "code",
   "execution_count": null,
   "metadata": {},
   "outputs": [],
   "source": []
  }
 ],
 "metadata": {
  "kernelspec": {
   "display_name": "Python 3",
   "language": "python",
   "name": "python3"
  },
  "language_info": {
   "codemirror_mode": {
    "name": "ipython",
    "version": 3
   },
   "file_extension": ".py",
   "mimetype": "text/x-python",
   "name": "python",
   "nbconvert_exporter": "python",
   "pygments_lexer": "ipython3",
   "version": "3.7.6"
  }
 },
 "nbformat": 4,
 "nbformat_minor": 4
}
